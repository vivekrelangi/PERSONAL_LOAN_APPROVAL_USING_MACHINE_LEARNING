{
 "cells": [
  {
   "cell_type": "code",
   "execution_count": 1,
   "id": "4d1d59cc",
   "metadata": {},
   "outputs": [],
   "source": [
    "import pandas as pd\n",
    "import numpy as np\n",
    "import pickle\n",
    "import matplotlib.pyplot as plt\n",
    "%matplotlib inline\n",
    "import seaborn as sns\n",
    "import sklearn\n",
    "from sklearn.tree import DecisionTreeClassifier\n",
    "from sklearn.ensemble import GradientBoostingClassifier, RandomForestClassifier\n",
    "from sklearn.neighbors import KNeighborsClassifier\n",
    "from sklearn.model_selection import RandomizedSearchCV\n",
    "import imblearn\n",
    "from sklearn.model_selection import train_test_split\n",
    "from sklearn.preprocessing import StandardScaler\n",
    "from sklearn.metrics import accuracy_score, classification_report, confusion_matrix, f1_score"
   ]
  },
  {
   "cell_type": "code",
   "execution_count": 2,
   "id": "f4dfe6fa",
   "metadata": {},
   "outputs": [],
   "source": [
    "# read the data set"
   ]
  },
  {
   "cell_type": "code",
   "execution_count": 3,
   "id": "ac89986e",
   "metadata": {},
   "outputs": [],
   "source": [
    "import os"
   ]
  },
  {
   "cell_type": "code",
   "execution_count": 4,
   "id": "358a85fb",
   "metadata": {},
   "outputs": [
    {
     "data": {
      "text/plain": [
       "'C:\\\\Users\\\\vivek\\\\PPLAUML'"
      ]
     },
     "execution_count": 4,
     "metadata": {},
     "output_type": "execute_result"
    }
   ],
   "source": [
    "os.getcwd()"
   ]
  },
  {
   "cell_type": "code",
   "execution_count": 5,
   "id": "c6c3709b",
   "metadata": {},
   "outputs": [],
   "source": [
    "import pandas as pd"
   ]
  },
  {
   "cell_type": "code",
   "execution_count": 6,
   "id": "5a995c71",
   "metadata": {},
   "outputs": [],
   "source": [
    "\n",
    "#read the data set"
   ]
  },
  {
   "cell_type": "code",
   "execution_count": 7,
   "id": "01139bbf",
   "metadata": {
    "scrolled": false
   },
   "outputs": [],
   "source": [
    "data = pd.read_csv(\"loan_prediction.csv\")"
   ]
  },
  {
   "cell_type": "code",
   "execution_count": 8,
   "id": "89245d7d",
   "metadata": {
    "scrolled": true
   },
   "outputs": [
    {
     "data": {
      "text/html": [
       "<div>\n",
       "<style scoped>\n",
       "    .dataframe tbody tr th:only-of-type {\n",
       "        vertical-align: middle;\n",
       "    }\n",
       "\n",
       "    .dataframe tbody tr th {\n",
       "        vertical-align: top;\n",
       "    }\n",
       "\n",
       "    .dataframe thead th {\n",
       "        text-align: right;\n",
       "    }\n",
       "</style>\n",
       "<table border=\"1\" class=\"dataframe\">\n",
       "  <thead>\n",
       "    <tr style=\"text-align: right;\">\n",
       "      <th></th>\n",
       "      <th>Loan_ID</th>\n",
       "      <th>Gender</th>\n",
       "      <th>Married</th>\n",
       "      <th>Dependents</th>\n",
       "      <th>Education</th>\n",
       "      <th>Self_Employed</th>\n",
       "      <th>ApplicantIncome</th>\n",
       "      <th>CoapplicantIncome</th>\n",
       "      <th>LoanAmount</th>\n",
       "      <th>Loan_Amount_Term</th>\n",
       "      <th>Credit_History</th>\n",
       "      <th>Property_Area</th>\n",
       "      <th>Loan_Status</th>\n",
       "    </tr>\n",
       "  </thead>\n",
       "  <tbody>\n",
       "    <tr>\n",
       "      <th>0</th>\n",
       "      <td>LP001002</td>\n",
       "      <td>Male</td>\n",
       "      <td>No</td>\n",
       "      <td>0</td>\n",
       "      <td>Graduate</td>\n",
       "      <td>No</td>\n",
       "      <td>5849</td>\n",
       "      <td>0.0</td>\n",
       "      <td>NaN</td>\n",
       "      <td>360.0</td>\n",
       "      <td>1.0</td>\n",
       "      <td>Urban</td>\n",
       "      <td>Y</td>\n",
       "    </tr>\n",
       "    <tr>\n",
       "      <th>1</th>\n",
       "      <td>LP001003</td>\n",
       "      <td>Male</td>\n",
       "      <td>Yes</td>\n",
       "      <td>1</td>\n",
       "      <td>Graduate</td>\n",
       "      <td>No</td>\n",
       "      <td>4583</td>\n",
       "      <td>1508.0</td>\n",
       "      <td>128.0</td>\n",
       "      <td>360.0</td>\n",
       "      <td>1.0</td>\n",
       "      <td>Rural</td>\n",
       "      <td>N</td>\n",
       "    </tr>\n",
       "    <tr>\n",
       "      <th>2</th>\n",
       "      <td>LP001005</td>\n",
       "      <td>Male</td>\n",
       "      <td>Yes</td>\n",
       "      <td>0</td>\n",
       "      <td>Graduate</td>\n",
       "      <td>Yes</td>\n",
       "      <td>3000</td>\n",
       "      <td>0.0</td>\n",
       "      <td>66.0</td>\n",
       "      <td>360.0</td>\n",
       "      <td>1.0</td>\n",
       "      <td>Urban</td>\n",
       "      <td>Y</td>\n",
       "    </tr>\n",
       "    <tr>\n",
       "      <th>3</th>\n",
       "      <td>LP001006</td>\n",
       "      <td>Male</td>\n",
       "      <td>Yes</td>\n",
       "      <td>0</td>\n",
       "      <td>Not Graduate</td>\n",
       "      <td>No</td>\n",
       "      <td>2583</td>\n",
       "      <td>2358.0</td>\n",
       "      <td>120.0</td>\n",
       "      <td>360.0</td>\n",
       "      <td>1.0</td>\n",
       "      <td>Urban</td>\n",
       "      <td>Y</td>\n",
       "    </tr>\n",
       "    <tr>\n",
       "      <th>4</th>\n",
       "      <td>LP001008</td>\n",
       "      <td>Male</td>\n",
       "      <td>No</td>\n",
       "      <td>0</td>\n",
       "      <td>Graduate</td>\n",
       "      <td>No</td>\n",
       "      <td>6000</td>\n",
       "      <td>0.0</td>\n",
       "      <td>141.0</td>\n",
       "      <td>360.0</td>\n",
       "      <td>1.0</td>\n",
       "      <td>Urban</td>\n",
       "      <td>Y</td>\n",
       "    </tr>\n",
       "  </tbody>\n",
       "</table>\n",
       "</div>"
      ],
      "text/plain": [
       "    Loan_ID Gender Married Dependents     Education Self_Employed  \\\n",
       "0  LP001002   Male      No          0      Graduate            No   \n",
       "1  LP001003   Male     Yes          1      Graduate            No   \n",
       "2  LP001005   Male     Yes          0      Graduate           Yes   \n",
       "3  LP001006   Male     Yes          0  Not Graduate            No   \n",
       "4  LP001008   Male      No          0      Graduate            No   \n",
       "\n",
       "   ApplicantIncome  CoapplicantIncome  LoanAmount  Loan_Amount_Term  \\\n",
       "0             5849                0.0         NaN             360.0   \n",
       "1             4583             1508.0       128.0             360.0   \n",
       "2             3000                0.0        66.0             360.0   \n",
       "3             2583             2358.0       120.0             360.0   \n",
       "4             6000                0.0       141.0             360.0   \n",
       "\n",
       "   Credit_History Property_Area Loan_Status  \n",
       "0             1.0         Urban           Y  \n",
       "1             1.0         Rural           N  \n",
       "2             1.0         Urban           Y  \n",
       "3             1.0         Urban           Y  \n",
       "4             1.0         Urban           Y  "
      ]
     },
     "execution_count": 8,
     "metadata": {},
     "output_type": "execute_result"
    }
   ],
   "source": [
    "data.head()"
   ]
  },
  {
   "cell_type": "code",
   "execution_count": 9,
   "id": "f3b9624e",
   "metadata": {
    "scrolled": true
   },
   "outputs": [
    {
     "data": {
      "text/html": [
       "<div>\n",
       "<style scoped>\n",
       "    .dataframe tbody tr th:only-of-type {\n",
       "        vertical-align: middle;\n",
       "    }\n",
       "\n",
       "    .dataframe tbody tr th {\n",
       "        vertical-align: top;\n",
       "    }\n",
       "\n",
       "    .dataframe thead th {\n",
       "        text-align: right;\n",
       "    }\n",
       "</style>\n",
       "<table border=\"1\" class=\"dataframe\">\n",
       "  <thead>\n",
       "    <tr style=\"text-align: right;\">\n",
       "      <th></th>\n",
       "      <th>Loan_ID</th>\n",
       "      <th>Gender</th>\n",
       "      <th>Married</th>\n",
       "      <th>Dependents</th>\n",
       "      <th>Education</th>\n",
       "      <th>Self_Employed</th>\n",
       "      <th>ApplicantIncome</th>\n",
       "      <th>CoapplicantIncome</th>\n",
       "      <th>LoanAmount</th>\n",
       "      <th>Loan_Amount_Term</th>\n",
       "      <th>Credit_History</th>\n",
       "      <th>Property_Area</th>\n",
       "      <th>Loan_Status</th>\n",
       "    </tr>\n",
       "  </thead>\n",
       "  <tbody>\n",
       "    <tr>\n",
       "      <th>609</th>\n",
       "      <td>LP002978</td>\n",
       "      <td>Female</td>\n",
       "      <td>No</td>\n",
       "      <td>0</td>\n",
       "      <td>Graduate</td>\n",
       "      <td>No</td>\n",
       "      <td>2900</td>\n",
       "      <td>0.0</td>\n",
       "      <td>71.0</td>\n",
       "      <td>360.0</td>\n",
       "      <td>1.0</td>\n",
       "      <td>Rural</td>\n",
       "      <td>Y</td>\n",
       "    </tr>\n",
       "    <tr>\n",
       "      <th>610</th>\n",
       "      <td>LP002979</td>\n",
       "      <td>Male</td>\n",
       "      <td>Yes</td>\n",
       "      <td>3+</td>\n",
       "      <td>Graduate</td>\n",
       "      <td>No</td>\n",
       "      <td>4106</td>\n",
       "      <td>0.0</td>\n",
       "      <td>40.0</td>\n",
       "      <td>180.0</td>\n",
       "      <td>1.0</td>\n",
       "      <td>Rural</td>\n",
       "      <td>Y</td>\n",
       "    </tr>\n",
       "    <tr>\n",
       "      <th>611</th>\n",
       "      <td>LP002983</td>\n",
       "      <td>Male</td>\n",
       "      <td>Yes</td>\n",
       "      <td>1</td>\n",
       "      <td>Graduate</td>\n",
       "      <td>No</td>\n",
       "      <td>8072</td>\n",
       "      <td>240.0</td>\n",
       "      <td>253.0</td>\n",
       "      <td>360.0</td>\n",
       "      <td>1.0</td>\n",
       "      <td>Urban</td>\n",
       "      <td>Y</td>\n",
       "    </tr>\n",
       "    <tr>\n",
       "      <th>612</th>\n",
       "      <td>LP002984</td>\n",
       "      <td>Male</td>\n",
       "      <td>Yes</td>\n",
       "      <td>2</td>\n",
       "      <td>Graduate</td>\n",
       "      <td>No</td>\n",
       "      <td>7583</td>\n",
       "      <td>0.0</td>\n",
       "      <td>187.0</td>\n",
       "      <td>360.0</td>\n",
       "      <td>1.0</td>\n",
       "      <td>Urban</td>\n",
       "      <td>Y</td>\n",
       "    </tr>\n",
       "    <tr>\n",
       "      <th>613</th>\n",
       "      <td>LP002990</td>\n",
       "      <td>Female</td>\n",
       "      <td>No</td>\n",
       "      <td>0</td>\n",
       "      <td>Graduate</td>\n",
       "      <td>Yes</td>\n",
       "      <td>4583</td>\n",
       "      <td>0.0</td>\n",
       "      <td>133.0</td>\n",
       "      <td>360.0</td>\n",
       "      <td>0.0</td>\n",
       "      <td>Semiurban</td>\n",
       "      <td>N</td>\n",
       "    </tr>\n",
       "  </tbody>\n",
       "</table>\n",
       "</div>"
      ],
      "text/plain": [
       "      Loan_ID  Gender Married Dependents Education Self_Employed  \\\n",
       "609  LP002978  Female      No          0  Graduate            No   \n",
       "610  LP002979    Male     Yes         3+  Graduate            No   \n",
       "611  LP002983    Male     Yes          1  Graduate            No   \n",
       "612  LP002984    Male     Yes          2  Graduate            No   \n",
       "613  LP002990  Female      No          0  Graduate           Yes   \n",
       "\n",
       "     ApplicantIncome  CoapplicantIncome  LoanAmount  Loan_Amount_Term  \\\n",
       "609             2900                0.0        71.0             360.0   \n",
       "610             4106                0.0        40.0             180.0   \n",
       "611             8072              240.0       253.0             360.0   \n",
       "612             7583                0.0       187.0             360.0   \n",
       "613             4583                0.0       133.0             360.0   \n",
       "\n",
       "     Credit_History Property_Area Loan_Status  \n",
       "609             1.0         Rural           Y  \n",
       "610             1.0         Rural           Y  \n",
       "611             1.0         Urban           Y  \n",
       "612             1.0         Urban           Y  \n",
       "613             0.0     Semiurban           N  "
      ]
     },
     "execution_count": 9,
     "metadata": {},
     "output_type": "execute_result"
    }
   ],
   "source": [
    "data.tail()"
   ]
  },
  {
   "cell_type": "code",
   "execution_count": 10,
   "id": "3d7dd8f1",
   "metadata": {},
   "outputs": [
    {
     "data": {
      "text/plain": [
       "Y    422\n",
       "N    192\n",
       "Name: Loan_Status, dtype: int64"
      ]
     },
     "execution_count": 10,
     "metadata": {},
     "output_type": "execute_result"
    }
   ],
   "source": [
    "data.Loan_Status.value_counts()"
   ]
  },
  {
   "cell_type": "code",
   "execution_count": 11,
   "id": "be7ec4a2",
   "metadata": {},
   "outputs": [
    {
     "data": {
      "text/plain": [
       "(614, 13)"
      ]
     },
     "execution_count": 11,
     "metadata": {},
     "output_type": "execute_result"
    }
   ],
   "source": [
    "data.shape"
   ]
  },
  {
   "cell_type": "code",
   "execution_count": 12,
   "id": "9f9f5a43",
   "metadata": {},
   "outputs": [],
   "source": [
    "# handling missing values"
   ]
  },
  {
   "cell_type": "code",
   "execution_count": 13,
   "id": "76ce3cea",
   "metadata": {},
   "outputs": [
    {
     "name": "stdout",
     "output_type": "stream",
     "text": [
      "<class 'pandas.core.frame.DataFrame'>\n",
      "RangeIndex: 614 entries, 0 to 613\n",
      "Data columns (total 13 columns):\n",
      " #   Column             Non-Null Count  Dtype  \n",
      "---  ------             --------------  -----  \n",
      " 0   Loan_ID            614 non-null    object \n",
      " 1   Gender             601 non-null    object \n",
      " 2   Married            611 non-null    object \n",
      " 3   Dependents         599 non-null    object \n",
      " 4   Education          614 non-null    object \n",
      " 5   Self_Employed      582 non-null    object \n",
      " 6   ApplicantIncome    614 non-null    int64  \n",
      " 7   CoapplicantIncome  614 non-null    float64\n",
      " 8   LoanAmount         592 non-null    float64\n",
      " 9   Loan_Amount_Term   600 non-null    float64\n",
      " 10  Credit_History     564 non-null    float64\n",
      " 11  Property_Area      614 non-null    object \n",
      " 12  Loan_Status        614 non-null    object \n",
      "dtypes: float64(4), int64(1), object(8)\n",
      "memory usage: 62.5+ KB\n"
     ]
    }
   ],
   "source": [
    "data.info()"
   ]
  },
  {
   "cell_type": "code",
   "execution_count": 14,
   "id": "5375913d",
   "metadata": {},
   "outputs": [],
   "source": [
    "# finding the sum of null values in each column"
   ]
  },
  {
   "cell_type": "code",
   "execution_count": 15,
   "id": "80619093",
   "metadata": {},
   "outputs": [
    {
     "data": {
      "text/plain": [
       "Loan_ID               0\n",
       "Gender               13\n",
       "Married               3\n",
       "Dependents           15\n",
       "Education             0\n",
       "Self_Employed        32\n",
       "ApplicantIncome       0\n",
       "CoapplicantIncome     0\n",
       "LoanAmount           22\n",
       "Loan_Amount_Term     14\n",
       "Credit_History       50\n",
       "Property_Area         0\n",
       "Loan_Status           0\n",
       "dtype: int64"
      ]
     },
     "execution_count": 15,
     "metadata": {},
     "output_type": "execute_result"
    }
   ],
   "source": [
    "data.isnull().sum()"
   ]
  },
  {
   "cell_type": "code",
   "execution_count": 16,
   "id": "7c1d6ca2",
   "metadata": {},
   "outputs": [],
   "source": [
    "#filling missing values"
   ]
  },
  {
   "cell_type": "code",
   "execution_count": 17,
   "id": "feab9486",
   "metadata": {},
   "outputs": [
    {
     "name": "stderr",
     "output_type": "stream",
     "text": [
      "C:\\Users\\vivek\\AppData\\Local\\Temp\\ipykernel_2528\\3433406654.py:4: FutureWarning: The default value of regex will change from True to False in a future version. In addition, single character regular expressions will *not* be treated as literal strings when regex=True.\n",
      "  data['Dependents'] = data['Dependents'].str.replace('+','')\n"
     ]
    }
   ],
   "source": [
    "\n",
    "data['Gender'] = data['Gender'].fillna(data['Gender'].mode()[0])\n",
    "data['Married'] = data['Married'].fillna(data['Married'].mode()[0])\n",
    "#replacing + with space for filling the non values\n",
    "data['Dependents'] = data['Dependents'].str.replace('+','')\n",
    "data['Dependents'] = data['Dependents'].fillna(data['Dependents'].mode()[0])\n",
    "data['Self_Employed'] = data['Self_Employed'].fillna(data['Self_Employed'].mode()[0])\n",
    "data['LoanAmount'] = data['LoanAmount'].fillna(data['LoanAmount'].mode()[0])\n",
    "data['Loan_Amount_Term'] = data['Loan_Amount_Term'].fillna(data['Loan_Amount_Term'].mode()[0])\n",
    "data['Credit_History'] = data['Credit_History'].fillna(data['Credit_History'].mode()[0])\n",
    "#data['LoanAmount'].fillna(value = data'LoanAmount'].mean(), inplace = True )\n"
   ]
  },
  {
   "cell_type": "code",
   "execution_count": 18,
   "id": "b56ac343",
   "metadata": {},
   "outputs": [
    {
     "data": {
      "text/plain": [
       "Loan_ID              0\n",
       "Gender               0\n",
       "Married              0\n",
       "Dependents           0\n",
       "Education            0\n",
       "Self_Employed        0\n",
       "ApplicantIncome      0\n",
       "CoapplicantIncome    0\n",
       "LoanAmount           0\n",
       "Loan_Amount_Term     0\n",
       "Credit_History       0\n",
       "Property_Area        0\n",
       "Loan_Status          0\n",
       "dtype: int64"
      ]
     },
     "execution_count": 18,
     "metadata": {},
     "output_type": "execute_result"
    }
   ],
   "source": [
    "data.isnull().sum()"
   ]
  },
  {
   "cell_type": "code",
   "execution_count": 19,
   "id": "29729381",
   "metadata": {},
   "outputs": [],
   "source": [
    "# handling catogorical values"
   ]
  },
  {
   "cell_type": "code",
   "execution_count": 20,
   "id": "60bb3725",
   "metadata": {},
   "outputs": [],
   "source": [
    "# changing the datatype of each float column to int\n",
    "data['CoapplicantIncome']=data['CoapplicantIncome'].astype('int64')\n",
    "data['LoanAmount']=data['LoanAmount'].astype('int64')\n",
    "data['Loan_Amount_Term']=data['Loan_Amount_Term'].astype('int64')\n",
    "data['Credit_History']=data['Credit_History'].astype('int64')\n"
   ]
  },
  {
   "cell_type": "code",
   "execution_count": 21,
   "id": "ace1d307",
   "metadata": {},
   "outputs": [],
   "source": [
    "# handling imbalance data"
   ]
  },
  {
   "cell_type": "code",
   "execution_count": 22,
   "id": "cbbf2095",
   "metadata": {},
   "outputs": [],
   "source": [
    "# balancing  the dataset by using smote\n",
    "from imblearn.combine import SMOTETomek"
   ]
  },
  {
   "cell_type": "code",
   "execution_count": 23,
   "id": "d884aef3",
   "metadata": {},
   "outputs": [],
   "source": [
    "#dividing the dataset into dependent and independent y and x respectively\n",
    "y = data['Loan_Status']\n",
    "x = data.drop(columns=['Loan_Status'],axis=1)"
   ]
  },
  {
   "cell_type": "code",
   "execution_count": 24,
   "id": "5920a47b",
   "metadata": {
    "scrolled": true
   },
   "outputs": [
    {
     "data": {
      "text/html": [
       "<div>\n",
       "<style scoped>\n",
       "    .dataframe tbody tr th:only-of-type {\n",
       "        vertical-align: middle;\n",
       "    }\n",
       "\n",
       "    .dataframe tbody tr th {\n",
       "        vertical-align: top;\n",
       "    }\n",
       "\n",
       "    .dataframe thead th {\n",
       "        text-align: right;\n",
       "    }\n",
       "</style>\n",
       "<table border=\"1\" class=\"dataframe\">\n",
       "  <thead>\n",
       "    <tr style=\"text-align: right;\">\n",
       "      <th></th>\n",
       "      <th>ApplicantIncome</th>\n",
       "      <th>CoapplicantIncome</th>\n",
       "      <th>LoanAmount</th>\n",
       "      <th>Loan_Amount_Term</th>\n",
       "      <th>Credit_History</th>\n",
       "    </tr>\n",
       "  </thead>\n",
       "  <tbody>\n",
       "    <tr>\n",
       "      <th>count</th>\n",
       "      <td>614.000000</td>\n",
       "      <td>614.00000</td>\n",
       "      <td>614.000000</td>\n",
       "      <td>614.000000</td>\n",
       "      <td>614.000000</td>\n",
       "    </tr>\n",
       "    <tr>\n",
       "      <th>mean</th>\n",
       "      <td>5403.459283</td>\n",
       "      <td>1621.24430</td>\n",
       "      <td>145.465798</td>\n",
       "      <td>342.410423</td>\n",
       "      <td>0.855049</td>\n",
       "    </tr>\n",
       "    <tr>\n",
       "      <th>std</th>\n",
       "      <td>6109.041673</td>\n",
       "      <td>2926.24876</td>\n",
       "      <td>84.180967</td>\n",
       "      <td>64.428629</td>\n",
       "      <td>0.352339</td>\n",
       "    </tr>\n",
       "    <tr>\n",
       "      <th>min</th>\n",
       "      <td>150.000000</td>\n",
       "      <td>0.00000</td>\n",
       "      <td>9.000000</td>\n",
       "      <td>12.000000</td>\n",
       "      <td>0.000000</td>\n",
       "    </tr>\n",
       "    <tr>\n",
       "      <th>25%</th>\n",
       "      <td>2877.500000</td>\n",
       "      <td>0.00000</td>\n",
       "      <td>100.250000</td>\n",
       "      <td>360.000000</td>\n",
       "      <td>1.000000</td>\n",
       "    </tr>\n",
       "    <tr>\n",
       "      <th>50%</th>\n",
       "      <td>3812.500000</td>\n",
       "      <td>1188.50000</td>\n",
       "      <td>125.000000</td>\n",
       "      <td>360.000000</td>\n",
       "      <td>1.000000</td>\n",
       "    </tr>\n",
       "    <tr>\n",
       "      <th>75%</th>\n",
       "      <td>5795.000000</td>\n",
       "      <td>2297.25000</td>\n",
       "      <td>164.750000</td>\n",
       "      <td>360.000000</td>\n",
       "      <td>1.000000</td>\n",
       "    </tr>\n",
       "    <tr>\n",
       "      <th>max</th>\n",
       "      <td>81000.000000</td>\n",
       "      <td>41667.00000</td>\n",
       "      <td>700.000000</td>\n",
       "      <td>480.000000</td>\n",
       "      <td>1.000000</td>\n",
       "    </tr>\n",
       "  </tbody>\n",
       "</table>\n",
       "</div>"
      ],
      "text/plain": [
       "       ApplicantIncome  CoapplicantIncome  LoanAmount  Loan_Amount_Term  \\\n",
       "count       614.000000          614.00000  614.000000        614.000000   \n",
       "mean       5403.459283         1621.24430  145.465798        342.410423   \n",
       "std        6109.041673         2926.24876   84.180967         64.428629   \n",
       "min         150.000000            0.00000    9.000000         12.000000   \n",
       "25%        2877.500000            0.00000  100.250000        360.000000   \n",
       "50%        3812.500000         1188.50000  125.000000        360.000000   \n",
       "75%        5795.000000         2297.25000  164.750000        360.000000   \n",
       "max       81000.000000        41667.00000  700.000000        480.000000   \n",
       "\n",
       "       Credit_History  \n",
       "count      614.000000  \n",
       "mean         0.855049  \n",
       "std          0.352339  \n",
       "min          0.000000  \n",
       "25%          1.000000  \n",
       "50%          1.000000  \n",
       "75%          1.000000  \n",
       "max          1.000000  "
      ]
     },
     "execution_count": 24,
     "metadata": {},
     "output_type": "execute_result"
    }
   ],
   "source": [
    "#exploratory data analysis \n",
    "#descriptive statistical\n",
    "data.describe()"
   ]
  },
  {
   "cell_type": "code",
   "execution_count": 25,
   "id": "855dbae0",
   "metadata": {},
   "outputs": [],
   "source": [
    "#visual analysis\n",
    "#Univariate analysis"
   ]
  },
  {
   "cell_type": "code",
   "execution_count": 26,
   "id": "4c368215",
   "metadata": {},
   "outputs": [
    {
     "name": "stderr",
     "output_type": "stream",
     "text": [
      "C:\\Users\\vivek\\AppData\\Local\\Temp\\ipykernel_2528\\1445803926.py:4: UserWarning: \n",
      "\n",
      "`distplot` is a deprecated function and will be removed in seaborn v0.14.0.\n",
      "\n",
      "Please adapt your code to use either `displot` (a figure-level function with\n",
      "similar flexibility) or `histplot` (an axes-level function for histograms).\n",
      "\n",
      "For a guide to updating your code to use the new functions, please see\n",
      "https://gist.github.com/mwaskom/de44147ed2974457ad6372750bbe5751\n",
      "\n",
      "  sns.distplot(data['ApplicantIncome'], color='r')\n",
      "C:\\Users\\vivek\\AppData\\Local\\Temp\\ipykernel_2528\\1445803926.py:6: UserWarning: \n",
      "\n",
      "`distplot` is a deprecated function and will be removed in seaborn v0.14.0.\n",
      "\n",
      "Please adapt your code to use either `displot` (a figure-level function with\n",
      "similar flexibility) or `histplot` (an axes-level function for histograms).\n",
      "\n",
      "For a guide to updating your code to use the new functions, please see\n",
      "https://gist.github.com/mwaskom/de44147ed2974457ad6372750bbe5751\n",
      "\n",
      "  sns.distplot(data['Credit_History'])\n"
     ]
    },
    {
     "data": {
      "image/png": "[encoded data removed]",
      "text/plain": [
       "<Figure size 1200x500 with 2 Axes>"
      ]
     },
     "metadata": {},
     "output_type": "display_data"
    }
   ],
   "source": [
    "# plotting the using displot\n",
    "plt.figure(figsize=(12,5))\n",
    "plt.subplot(121)\n",
    "sns.distplot(data['ApplicantIncome'], color='r')\n",
    "plt.subplot(122)\n",
    "sns.distplot(data['Credit_History'])\n",
    "plt.show()"
   ]
  },
  {
   "cell_type": "code",
   "execution_count": 27,
   "id": "68104c85",
   "metadata": {},
   "outputs": [],
   "source": [
    "#Bivariate analysis"
   ]
  },
  {
   "cell_type": "code",
   "execution_count": 28,
   "id": "a81c4dc4",
   "metadata": {},
   "outputs": [
    {
     "data": {
      "image/png": "[encoded data removed]",
      "text/plain": [
       "<Figure size 1800x400 with 2 Axes>"
      ]
     },
     "metadata": {},
     "output_type": "display_data"
    }
   ],
   "source": [
    "#plottiong the count plot\n",
    "plt.figure(figsize=(18,4))\n",
    "plt.subplot(1,4,1)\n",
    "sns.countplot(x = data['Gender'])\n",
    "plt.subplot(1,4,2)\n",
    "sns.countplot(x = data['Education'])\n",
    "plt.show()"
   ]
  },
  {
   "cell_type": "code",
   "execution_count": 29,
   "id": "d3f316ac",
   "metadata": {},
   "outputs": [
    {
     "data": {
      "text/plain": [
       "<Axes: xlabel='Property_Area', ylabel='count'>"
      ]
     },
     "execution_count": 29,
     "metadata": {},
     "output_type": "execute_result"
    },
    {
     "data": {
      "image/png": "[encoded data removed]",
      "text/plain": [
       "<Figure size 2000x500 with 3 Axes>"
      ]
     },
     "metadata": {},
     "output_type": "display_data"
    }
   ],
   "source": [
    "plt.figure(figsize=(20,5))\n",
    "plt.subplot(131)\n",
    "sns.countplot(x=data['Married'], hue=data['Gender'])\n",
    "plt.subplot(132)\n",
    "sns.countplot(x=data['Self_Employed'], hue=data['Education'])\n",
    "plt.subplot(133)\n",
    "sns.countplot(x=data['Property_Area'], hue=data['Loan_Amount_Term'])\n"
   ]
  },
  {
   "cell_type": "code",
   "execution_count": 30,
   "id": "ae242db0",
   "metadata": {},
   "outputs": [],
   "source": [
    "#Multivariate analysis"
   ]
  },
  {
   "cell_type": "code",
   "execution_count": 31,
   "id": "149a32bc",
   "metadata": {
    "scrolled": true
   },
   "outputs": [
    {
     "name": "stderr",
     "output_type": "stream",
     "text": [
      "C:\\Users\\vivek\\anaconda3\\lib\\site-packages\\seaborn\\categorical.py:3544: UserWarning: 45.8% of the points cannot be placed; you may want to decrease the size of the markers or use stripplot.\n",
      "  warnings.warn(msg, UserWarning)\n"
     ]
    },
    {
     "data": {
      "text/plain": [
       "<Axes: xlabel='Gender', ylabel='ApplicantIncome'>"
      ]
     },
     "execution_count": 31,
     "metadata": {},
     "output_type": "execute_result"
    },
    {
     "name": "stderr",
     "output_type": "stream",
     "text": [
      "C:\\Users\\vivek\\anaconda3\\lib\\site-packages\\seaborn\\categorical.py:3544: UserWarning: 61.6% of the points cannot be placed; you may want to decrease the size of the markers or use stripplot.\n",
      "  warnings.warn(msg, UserWarning)\n",
      "C:\\Users\\vivek\\anaconda3\\lib\\site-packages\\seaborn\\categorical.py:3544: UserWarning: 25.0% of the points cannot be placed; you may want to decrease the size of the markers or use stripplot.\n",
      "  warnings.warn(msg, UserWarning)\n"
     ]
    },
    {
     "data": {
      "image/png": "[encoded data removed]",
      "text/plain": [
       "<Figure size 640x480 with 1 Axes>"
      ]
     },
     "metadata": {},
     "output_type": "display_data"
    }
   ],
   "source": [
    "sns.swarmplot(x=data['Gender'],y=data['ApplicantIncome'], hue = data['Loan_Status'])"
   ]
  },
  {
   "cell_type": "code",
   "execution_count": 32,
   "id": "44799f9b",
   "metadata": {
    "scrolled": true
   },
   "outputs": [
    {
     "data": {
      "text/html": [
       "<div>\n",
       "<style scoped>\n",
       "    .dataframe tbody tr th:only-of-type {\n",
       "        vertical-align: middle;\n",
       "    }\n",
       "\n",
       "    .dataframe tbody tr th {\n",
       "        vertical-align: top;\n",
       "    }\n",
       "\n",
       "    .dataframe thead th {\n",
       "        text-align: right;\n",
       "    }\n",
       "</style>\n",
       "<table border=\"1\" class=\"dataframe\">\n",
       "  <thead>\n",
       "    <tr style=\"text-align: right;\">\n",
       "      <th></th>\n",
       "      <th>Loan_ID</th>\n",
       "      <th>Gender</th>\n",
       "      <th>Married</th>\n",
       "      <th>Dependents</th>\n",
       "      <th>Education</th>\n",
       "      <th>Self_Employed</th>\n",
       "      <th>ApplicantIncome</th>\n",
       "      <th>CoapplicantIncome</th>\n",
       "      <th>LoanAmount</th>\n",
       "      <th>Loan_Amount_Term</th>\n",
       "      <th>Credit_History</th>\n",
       "      <th>Property_Area</th>\n",
       "      <th>Loan_Status</th>\n",
       "    </tr>\n",
       "  </thead>\n",
       "  <tbody>\n",
       "    <tr>\n",
       "      <th>0</th>\n",
       "      <td>LP001002</td>\n",
       "      <td>1</td>\n",
       "      <td>0</td>\n",
       "      <td>0</td>\n",
       "      <td>0</td>\n",
       "      <td>0</td>\n",
       "      <td>5849</td>\n",
       "      <td>0</td>\n",
       "      <td>120</td>\n",
       "      <td>360</td>\n",
       "      <td>1</td>\n",
       "      <td>2</td>\n",
       "      <td>1</td>\n",
       "    </tr>\n",
       "    <tr>\n",
       "      <th>1</th>\n",
       "      <td>LP001003</td>\n",
       "      <td>1</td>\n",
       "      <td>1</td>\n",
       "      <td>1</td>\n",
       "      <td>0</td>\n",
       "      <td>0</td>\n",
       "      <td>4583</td>\n",
       "      <td>1508</td>\n",
       "      <td>128</td>\n",
       "      <td>360</td>\n",
       "      <td>1</td>\n",
       "      <td>0</td>\n",
       "      <td>0</td>\n",
       "    </tr>\n",
       "    <tr>\n",
       "      <th>2</th>\n",
       "      <td>LP001005</td>\n",
       "      <td>1</td>\n",
       "      <td>1</td>\n",
       "      <td>0</td>\n",
       "      <td>0</td>\n",
       "      <td>1</td>\n",
       "      <td>3000</td>\n",
       "      <td>0</td>\n",
       "      <td>66</td>\n",
       "      <td>360</td>\n",
       "      <td>1</td>\n",
       "      <td>2</td>\n",
       "      <td>1</td>\n",
       "    </tr>\n",
       "    <tr>\n",
       "      <th>3</th>\n",
       "      <td>LP001006</td>\n",
       "      <td>1</td>\n",
       "      <td>1</td>\n",
       "      <td>0</td>\n",
       "      <td>1</td>\n",
       "      <td>0</td>\n",
       "      <td>2583</td>\n",
       "      <td>2358</td>\n",
       "      <td>120</td>\n",
       "      <td>360</td>\n",
       "      <td>1</td>\n",
       "      <td>2</td>\n",
       "      <td>1</td>\n",
       "    </tr>\n",
       "    <tr>\n",
       "      <th>4</th>\n",
       "      <td>LP001008</td>\n",
       "      <td>1</td>\n",
       "      <td>0</td>\n",
       "      <td>0</td>\n",
       "      <td>0</td>\n",
       "      <td>0</td>\n",
       "      <td>6000</td>\n",
       "      <td>0</td>\n",
       "      <td>141</td>\n",
       "      <td>360</td>\n",
       "      <td>1</td>\n",
       "      <td>2</td>\n",
       "      <td>1</td>\n",
       "    </tr>\n",
       "  </tbody>\n",
       "</table>\n",
       "</div>"
      ],
      "text/plain": [
       "    Loan_ID  Gender  Married  Dependents  Education  Self_Employed  \\\n",
       "0  LP001002       1        0           0          0              0   \n",
       "1  LP001003       1        1           1          0              0   \n",
       "2  LP001005       1        1           0          0              1   \n",
       "3  LP001006       1        1           0          1              0   \n",
       "4  LP001008       1        0           0          0              0   \n",
       "\n",
       "   ApplicantIncome  CoapplicantIncome  LoanAmount  Loan_Amount_Term  \\\n",
       "0             5849                  0         120               360   \n",
       "1             4583               1508         128               360   \n",
       "2             3000                  0          66               360   \n",
       "3             2583               2358         120               360   \n",
       "4             6000                  0         141               360   \n",
       "\n",
       "   Credit_History  Property_Area  Loan_Status  \n",
       "0               1              2            1  \n",
       "1               1              0            0  \n",
       "2               1              2            1  \n",
       "3               1              2            1  \n",
       "4               1              2            1  "
      ]
     },
     "execution_count": 32,
     "metadata": {},
     "output_type": "execute_result"
    }
   ],
   "source": [
    "#Encoding data\n",
    "from sklearn.preprocessing import LabelEncoder\n",
    "le = LabelEncoder()\n",
    "col = ['Gender','Married','Dependents','Education','Self_Employed','Property_Area','Loan_Status']\n",
    "for i in col:\n",
    "    data[i] = le.fit_transform(data[i])\n",
    "data.head()"
   ]
  },
  {
   "cell_type": "code",
   "execution_count": 33,
   "id": "d4d08df4",
   "metadata": {},
   "outputs": [
    {
     "name": "stderr",
     "output_type": "stream",
     "text": [
      "C:\\Users\\vivek\\AppData\\Local\\Temp\\ipykernel_2528\\1439425145.py:3: FutureWarning: The default value of numeric_only in DataFrame.corr is deprecated. In a future version, it will default to False. Select only valid columns or specify the value of numeric_only to silence this warning.\n",
      "  sns.heatmap(data.corr(), annot = True)\n"
     ]
    },
    {
     "data": {
      "text/plain": [
       "<Axes: >"
      ]
     },
     "execution_count": 33,
     "metadata": {},
     "output_type": "execute_result"
    },
    {
     "data": {
      "image/png": "[encoded data removed]",
      "text/plain": [
       "<Figure size 1200x800 with 2 Axes>"
      ]
     },
     "metadata": {},
     "output_type": "display_data"
    }
   ],
   "source": [
    "#Correlation Matrix\n",
    "plt.figure(figsize=(12,8))\n",
    "sns.heatmap(data.corr(), annot = True)"
   ]
  },
  {
   "cell_type": "code",
   "execution_count": 34,
   "id": "72eefa83",
   "metadata": {},
   "outputs": [],
   "source": [
    "#Separating Features and Outcomes\n",
    "X = data.loc[:,'Gender':'Property_Area'].values\n",
    "Y = data.loc[:,'Loan_Status'].values"
   ]
  },
  {
   "cell_type": "code",
   "execution_count": 35,
   "id": "cc0f1a91",
   "metadata": {},
   "outputs": [],
   "source": [
    "#Splitting dataset into Training and Test Data\n",
    "from sklearn.model_selection import train_test_split \n",
    "X_train,X_test,Y_train,Y_test = train_test_split(X, Y, test_size = 0.2, random_state = 42)"
   ]
  },
  {
   "cell_type": "code",
   "execution_count": 36,
   "id": "02cc5a99",
   "metadata": {},
   "outputs": [],
   "source": [
    "# SPLITTING DATASET INTO TRAINING DATA"
   ]
  },
  {
   "cell_type": "code",
   "execution_count": 37,
   "id": "10924398",
   "metadata": {},
   "outputs": [],
   "source": [
    "# scaling the data\n",
    "# perfomimg features scaling opration using standard scaller on x part of the dataset because\n",
    "# there different type of values in the columns\n",
    "#Scaling the featues\n",
    "from sklearn.preprocessing import StandardScaler\n",
    "sc = StandardScaler()\n",
    "X_train = sc.fit_transform(X_train)\n",
    "X_test = sc.fit_transform(X_test)"
   ]
  },
  {
   "cell_type": "code",
   "execution_count": 38,
   "id": "99a906b6",
   "metadata": {},
   "outputs": [],
   "source": [
    "# scaling the features"
   ]
  },
  {
   "cell_type": "code",
   "execution_count": 39,
   "id": "9b683af6",
   "metadata": {},
   "outputs": [],
   "source": [
    "# model building"
   ]
  },
  {
   "cell_type": "code",
   "execution_count": 40,
   "id": "73b494d8",
   "metadata": {},
   "outputs": [],
   "source": [
    "#activity 1 \n",
    "# Decision Tree model"
   ]
  },
  {
   "cell_type": "code",
   "execution_count": 41,
   "id": "66b24d63",
   "metadata": {},
   "outputs": [],
   "source": [
    "from sklearn.tree import DecisionTreeClassifier\n",
    "def decisionTree(x_train,x_test, y_train, y_test):\n",
    "    dt=DecisionTreeClassifier()\n",
    "    dt.fit(x_train,y_train)\n",
    "    yPred = dt.predict(x_test)\n",
    "    print('***DecisionTreeClassifier***')\n",
    "    print('Confusion matrix')\n",
    "    print(confusion_matrix(y_test,yPred))\n",
    "    print('Classfication report')\n",
    "    print(classification_report(y_test,yPred))\n"
   ]
  },
  {
   "cell_type": "code",
   "execution_count": 42,
   "id": "7a7b7eb2",
   "metadata": {},
   "outputs": [],
   "source": [
    "#Random Forest model\n",
    "def randomForest(x_train,x_test, y_train, y_test):\n",
    "    rf=RandomForestClassifier()\n",
    "    rf.fit(x_train,y_train)\n",
    "    yPred = rf.predict(x_test)\n",
    "    print('***RandomForestClassifier***')\n",
    "    print('Confusion matrix')\n",
    "    print(confusion_matrix(y_test,yPred))\n",
    "    print('Classfication report')\n",
    "    print(classification_report(y_test,yPred))"
   ]
  },
  {
   "cell_type": "code",
   "execution_count": 43,
   "id": "3bd92619",
   "metadata": {},
   "outputs": [],
   "source": [
    "# KNN Model\n",
    "def KNN(x_train,x_test, y_train, y_test):\n",
    "    Knn=KNeighborsClassifier()\n",
    "    Knn.fit(x_train,y_train)\n",
    "    yPred = Knn.predict(x_test)\n",
    "    print('***KNeighborsClassifier***')\n",
    "    print('Confusion matrix')\n",
    "    print(confusion_matrix(y_test,yPred))\n",
    "    print('Classfication report')\n",
    "    print(classification_report(y_test,yPred))"
   ]
  },
  {
   "cell_type": "code",
   "execution_count": 44,
   "id": "13451dfb",
   "metadata": {},
   "outputs": [],
   "source": [
    "# Xgboost model\n",
    "def Xgboost(x_train,x_test, y_train, y_test):\n",
    "    xg=GradientBoostingClassifier()\n",
    "    xg.fit(x_train,y_train)\n",
    "    yPred = xg.predict(x_test)\n",
    "    print('***GradientBoostingClassifier***')\n",
    "    print('Confusion matrix')\n",
    "    print(confusion_matrix(y_test,yPred))\n",
    "    print('Classfication report')\n",
    "    print(classification_report(y_test,yPred))"
   ]
  },
  {
   "cell_type": "code",
   "execution_count": 45,
   "id": "4664127f",
   "metadata": {},
   "outputs": [],
   "source": [
    "#ANN model\n",
    "# importing the keras libraries and packages\n",
    "import tensorflow\n",
    "from tensorflow.keras.models import Sequential\n",
    "from tensorflow.keras.layers import Dense"
   ]
  },
  {
   "cell_type": "code",
   "execution_count": 46,
   "id": "c511e2b3",
   "metadata": {},
   "outputs": [],
   "source": [
    "# Initializing the ANN\n",
    "classifier = Sequential()"
   ]
  },
  {
   "cell_type": "code",
   "execution_count": 47,
   "id": "de7f4d87",
   "metadata": {},
   "outputs": [],
   "source": [
    "# Adding the input layer and the first hidden layer\n",
    "classifier.add(Dense(units=100, activation='relu', input_dim=11))"
   ]
  },
  {
   "cell_type": "code",
   "execution_count": 48,
   "id": "811befa8",
   "metadata": {},
   "outputs": [],
   "source": [
    "# Adding Second hidden layer \n",
    "classifier.add(Dense(units=50, activation='relu'))"
   ]
  },
  {
   "cell_type": "code",
   "execution_count": 49,
   "id": "d6d822ef",
   "metadata": {},
   "outputs": [],
   "source": [
    "# Adding the output layer\n",
    "classifier.add(Dense(units=1, activation='sigmoid'))"
   ]
  },
  {
   "cell_type": "code",
   "execution_count": 50,
   "id": "25566261",
   "metadata": {},
   "outputs": [],
   "source": [
    "# compiling the ANN\n",
    "classifier.compile(optimizer='adam', loss='binary_crossentropy', metrics=['accuracy'])"
   ]
  },
  {
   "cell_type": "code",
   "execution_count": 51,
   "id": "4070ef7e",
   "metadata": {},
   "outputs": [
    {
     "name": "stdout",
     "output_type": "stream",
     "text": [
      "Epoch 1/100\n",
      "4/4 [==============================] - 1s 116ms/step - loss: 100.7548 - accuracy: 0.6921 - val_loss: 121.1063 - val_accuracy: 0.2771\n",
      "Epoch 2/100\n",
      "4/4 [==============================] - 0s 18ms/step - loss: 85.3675 - accuracy: 0.3628 - val_loss: 43.7215 - val_accuracy: 0.7349\n",
      "Epoch 3/100\n",
      "4/4 [==============================] - 0s 17ms/step - loss: 57.9897 - accuracy: 0.7073 - val_loss: 51.9609 - val_accuracy: 0.7229\n",
      "Epoch 4/100\n",
      "4/4 [==============================] - 0s 15ms/step - loss: 42.0968 - accuracy: 0.6921 - val_loss: 38.3110 - val_accuracy: 0.4096\n",
      "Epoch 5/100\n",
      "4/4 [==============================] - 0s 17ms/step - loss: 36.7998 - accuracy: 0.4329 - val_loss: 19.1348 - val_accuracy: 0.7229\n",
      "Epoch 6/100\n",
      "4/4 [==============================] - 0s 16ms/step - loss: 37.5322 - accuracy: 0.7043 - val_loss: 41.8906 - val_accuracy: 0.7229\n",
      "Epoch 7/100\n",
      "4/4 [==============================] - 0s 15ms/step - loss: 33.4212 - accuracy: 0.6707 - val_loss: 24.9403 - val_accuracy: 0.4699\n",
      "Epoch 8/100\n",
      "4/4 [==============================] - 0s 16ms/step - loss: 35.1788 - accuracy: 0.3415 - val_loss: 12.8790 - val_accuracy: 0.6867\n",
      "Epoch 9/100\n",
      "4/4 [==============================] - 0s 17ms/step - loss: 29.7361 - accuracy: 0.6951 - val_loss: 25.5803 - val_accuracy: 0.7229\n",
      "Epoch 10/100\n",
      "4/4 [==============================] - 0s 16ms/step - loss: 21.5629 - accuracy: 0.6220 - val_loss: 30.2553 - val_accuracy: 0.4578\n",
      "Epoch 11/100\n",
      "4/4 [==============================] - 0s 17ms/step - loss: 18.9126 - accuracy: 0.5854 - val_loss: 8.5205 - val_accuracy: 0.6988\n",
      "Epoch 12/100\n",
      "4/4 [==============================] - 0s 14ms/step - loss: 8.3244 - accuracy: 0.5854 - val_loss: 5.3167 - val_accuracy: 0.7108\n",
      "Epoch 13/100\n",
      "4/4 [==============================] - 0s 15ms/step - loss: 6.9801 - accuracy: 0.6738 - val_loss: 4.2303 - val_accuracy: 0.5783\n",
      "Epoch 14/100\n",
      "4/4 [==============================] - 0s 16ms/step - loss: 5.2792 - accuracy: 0.6372 - val_loss: 6.5573 - val_accuracy: 0.4699\n",
      "Epoch 15/100\n",
      "4/4 [==============================] - 0s 16ms/step - loss: 5.2431 - accuracy: 0.5945 - val_loss: 4.5328 - val_accuracy: 0.7108\n",
      "Epoch 16/100\n",
      "4/4 [==============================] - 0s 16ms/step - loss: 4.3312 - accuracy: 0.6372 - val_loss: 5.6312 - val_accuracy: 0.7229\n",
      "Epoch 17/100\n",
      "4/4 [==============================] - 0s 16ms/step - loss: 4.1227 - accuracy: 0.6799 - val_loss: 2.7037 - val_accuracy: 0.6867\n",
      "Epoch 18/100\n",
      "4/4 [==============================] - 0s 16ms/step - loss: 3.9165 - accuracy: 0.6524 - val_loss: 9.9253 - val_accuracy: 0.7229\n",
      "Epoch 19/100\n",
      "4/4 [==============================] - 0s 16ms/step - loss: 12.6607 - accuracy: 0.7104 - val_loss: 7.3193 - val_accuracy: 0.5422\n",
      "Epoch 20/100\n",
      "4/4 [==============================] - 0s 17ms/step - loss: 10.6566 - accuracy: 0.4787 - val_loss: 21.5352 - val_accuracy: 0.7229\n",
      "Epoch 21/100\n",
      "4/4 [==============================] - 0s 22ms/step - loss: 26.2143 - accuracy: 0.7043 - val_loss: 11.6732 - val_accuracy: 0.7229\n",
      "Epoch 22/100\n",
      "4/4 [==============================] - 0s 17ms/step - loss: 10.4506 - accuracy: 0.5457 - val_loss: 9.1320 - val_accuracy: 0.7229\n",
      "Epoch 23/100\n",
      "4/4 [==============================] - 0s 17ms/step - loss: 11.3235 - accuracy: 0.7043 - val_loss: 3.4405 - val_accuracy: 0.5542\n",
      "Epoch 24/100\n",
      "4/4 [==============================] - 0s 15ms/step - loss: 7.0416 - accuracy: 0.5854 - val_loss: 8.1065 - val_accuracy: 0.7349\n",
      "Epoch 25/100\n",
      "4/4 [==============================] - 0s 15ms/step - loss: 9.1542 - accuracy: 0.5884 - val_loss: 10.0523 - val_accuracy: 0.7229\n",
      "Epoch 26/100\n",
      "4/4 [==============================] - 0s 17ms/step - loss: 15.2117 - accuracy: 0.7134 - val_loss: 12.1740 - val_accuracy: 0.5663\n",
      "Epoch 27/100\n",
      "4/4 [==============================] - 0s 16ms/step - loss: 9.7092 - accuracy: 0.5030 - val_loss: 11.4885 - val_accuracy: 0.7229\n",
      "Epoch 28/100\n",
      "4/4 [==============================] - 0s 16ms/step - loss: 15.7755 - accuracy: 0.7104 - val_loss: 10.1800 - val_accuracy: 0.7349\n",
      "Epoch 29/100\n",
      "4/4 [==============================] - 0s 18ms/step - loss: 9.6164 - accuracy: 0.5884 - val_loss: 6.2401 - val_accuracy: 0.7108\n",
      "Epoch 30/100\n",
      "4/4 [==============================] - 0s 15ms/step - loss: 7.5676 - accuracy: 0.6951 - val_loss: 4.7606 - val_accuracy: 0.5060\n",
      "Epoch 31/100\n",
      "4/4 [==============================] - 0s 15ms/step - loss: 6.0058 - accuracy: 0.5915 - val_loss: 8.0412 - val_accuracy: 0.7349\n",
      "Epoch 32/100\n",
      "4/4 [==============================] - 0s 16ms/step - loss: 8.8199 - accuracy: 0.6220 - val_loss: 3.3143 - val_accuracy: 0.6627\n",
      "Epoch 33/100\n",
      "4/4 [==============================] - 0s 17ms/step - loss: 5.1028 - accuracy: 0.6098 - val_loss: 8.0700 - val_accuracy: 0.6627\n",
      "Epoch 34/100\n",
      "4/4 [==============================] - 0s 17ms/step - loss: 6.2049 - accuracy: 0.6402 - val_loss: 12.6976 - val_accuracy: 0.4096\n",
      "Epoch 35/100\n",
      "4/4 [==============================] - 0s 18ms/step - loss: 10.5324 - accuracy: 0.5915 - val_loss: 13.0318 - val_accuracy: 0.7229\n",
      "Epoch 36/100\n",
      "4/4 [==============================] - 0s 17ms/step - loss: 12.5099 - accuracy: 0.6646 - val_loss: 6.5601 - val_accuracy: 0.7349\n",
      "Epoch 37/100\n",
      "4/4 [==============================] - 0s 19ms/step - loss: 10.2038 - accuracy: 0.7073 - val_loss: 8.4506 - val_accuracy: 0.4819\n",
      "Epoch 38/100\n",
      "4/4 [==============================] - 0s 18ms/step - loss: 5.5469 - accuracy: 0.5305 - val_loss: 10.5619 - val_accuracy: 0.7229\n",
      "Epoch 39/100\n",
      "4/4 [==============================] - 0s 16ms/step - loss: 12.0626 - accuracy: 0.7317 - val_loss: 19.9689 - val_accuracy: 0.4940\n",
      "Epoch 40/100\n",
      "4/4 [==============================] - 0s 18ms/step - loss: 14.3856 - accuracy: 0.5579 - val_loss: 13.9264 - val_accuracy: 0.7108\n",
      "Epoch 41/100\n",
      "4/4 [==============================] - 0s 16ms/step - loss: 16.2265 - accuracy: 0.5518 - val_loss: 7.4034 - val_accuracy: 0.6506\n",
      "Epoch 42/100\n",
      "4/4 [==============================] - 0s 14ms/step - loss: 8.5718 - accuracy: 0.5640 - val_loss: 12.0755 - val_accuracy: 0.7229\n",
      "Epoch 43/100\n",
      "4/4 [==============================] - 0s 14ms/step - loss: 19.5749 - accuracy: 0.7134 - val_loss: 15.0527 - val_accuracy: 0.7229\n",
      "Epoch 44/100\n",
      "4/4 [==============================] - 0s 15ms/step - loss: 9.9420 - accuracy: 0.6128 - val_loss: 7.4995 - val_accuracy: 0.6386\n",
      "Epoch 45/100\n",
      "4/4 [==============================] - 0s 14ms/step - loss: 13.2115 - accuracy: 0.6799 - val_loss: 8.9234 - val_accuracy: 0.6145\n",
      "Epoch 46/100\n",
      "4/4 [==============================] - 0s 14ms/step - loss: 11.7557 - accuracy: 0.4909 - val_loss: 8.0020 - val_accuracy: 0.7349\n",
      "Epoch 47/100\n",
      "4/4 [==============================] - 0s 14ms/step - loss: 8.0719 - accuracy: 0.6311 - val_loss: 5.4411 - val_accuracy: 0.5542\n",
      "Epoch 48/100\n",
      "4/4 [==============================] - 0s 14ms/step - loss: 5.5639 - accuracy: 0.5945 - val_loss: 8.6828 - val_accuracy: 0.5783\n",
      "Epoch 49/100\n",
      "4/4 [==============================] - 0s 15ms/step - loss: 7.2057 - accuracy: 0.5823 - val_loss: 4.8393 - val_accuracy: 0.7229\n",
      "Epoch 50/100\n",
      "4/4 [==============================] - 0s 13ms/step - loss: 5.3875 - accuracy: 0.7043 - val_loss: 7.6412 - val_accuracy: 0.4819\n",
      "Epoch 51/100\n",
      "4/4 [==============================] - 0s 14ms/step - loss: 5.6368 - accuracy: 0.6463 - val_loss: 6.0718 - val_accuracy: 0.5301\n",
      "Epoch 52/100\n",
      "4/4 [==============================] - 0s 14ms/step - loss: 6.5450 - accuracy: 0.5152 - val_loss: 7.2054 - val_accuracy: 0.7229\n",
      "Epoch 53/100\n",
      "4/4 [==============================] - 0s 14ms/step - loss: 5.2029 - accuracy: 0.6280 - val_loss: 5.5145 - val_accuracy: 0.7349\n",
      "Epoch 54/100\n",
      "4/4 [==============================] - 0s 14ms/step - loss: 4.9045 - accuracy: 0.6524 - val_loss: 4.2393 - val_accuracy: 0.6145\n",
      "Epoch 55/100\n",
      "4/4 [==============================] - 0s 15ms/step - loss: 4.6223 - accuracy: 0.6829 - val_loss: 5.5137 - val_accuracy: 0.4337\n",
      "Epoch 56/100\n",
      "4/4 [==============================] - 0s 14ms/step - loss: 5.0253 - accuracy: 0.6799 - val_loss: 4.8565 - val_accuracy: 0.4096\n",
      "Epoch 57/100\n",
      "4/4 [==============================] - 0s 14ms/step - loss: 3.8704 - accuracy: 0.5976 - val_loss: 3.2821 - val_accuracy: 0.6747\n",
      "Epoch 58/100\n",
      "4/4 [==============================] - 0s 15ms/step - loss: 4.6823 - accuracy: 0.5640 - val_loss: 11.1277 - val_accuracy: 0.7229\n"
     ]
    },
    {
     "name": "stdout",
     "output_type": "stream",
     "text": [
      "Epoch 59/100\n",
      "4/4 [==============================] - 0s 13ms/step - loss: 7.7477 - accuracy: 0.6220 - val_loss: 1.9770 - val_accuracy: 0.5301\n",
      "Epoch 60/100\n",
      "4/4 [==============================] - 0s 13ms/step - loss: 5.8598 - accuracy: 0.6860 - val_loss: 8.4871 - val_accuracy: 0.4940\n",
      "Epoch 61/100\n",
      "4/4 [==============================] - 0s 14ms/step - loss: 8.9809 - accuracy: 0.5793 - val_loss: 7.9383 - val_accuracy: 0.7229\n",
      "Epoch 62/100\n",
      "4/4 [==============================] - 0s 14ms/step - loss: 6.3416 - accuracy: 0.5610 - val_loss: 7.2758 - val_accuracy: 0.6627\n",
      "Epoch 63/100\n",
      "4/4 [==============================] - 0s 14ms/step - loss: 6.3033 - accuracy: 0.6890 - val_loss: 4.7695 - val_accuracy: 0.4458\n",
      "Epoch 64/100\n",
      "4/4 [==============================] - 0s 14ms/step - loss: 4.1692 - accuracy: 0.6311 - val_loss: 3.1237 - val_accuracy: 0.7229\n",
      "Epoch 65/100\n",
      "4/4 [==============================] - 0s 14ms/step - loss: 2.1259 - accuracy: 0.6829 - val_loss: 4.8693 - val_accuracy: 0.7349\n",
      "Epoch 66/100\n",
      "4/4 [==============================] - 0s 14ms/step - loss: 2.8818 - accuracy: 0.6463 - val_loss: 5.4727 - val_accuracy: 0.7349\n",
      "Epoch 67/100\n",
      "4/4 [==============================] - 0s 14ms/step - loss: 5.3876 - accuracy: 0.6768 - val_loss: 2.9659 - val_accuracy: 0.5422\n",
      "Epoch 68/100\n",
      "4/4 [==============================] - 0s 13ms/step - loss: 4.5456 - accuracy: 0.6829 - val_loss: 7.8273 - val_accuracy: 0.3976\n",
      "Epoch 69/100\n",
      "4/4 [==============================] - 0s 14ms/step - loss: 6.3678 - accuracy: 0.5610 - val_loss: 4.2630 - val_accuracy: 0.7229\n",
      "Epoch 70/100\n",
      "4/4 [==============================] - 0s 13ms/step - loss: 5.5418 - accuracy: 0.5396 - val_loss: 11.3645 - val_accuracy: 0.7229\n",
      "Epoch 71/100\n",
      "4/4 [==============================] - 0s 14ms/step - loss: 7.0912 - accuracy: 0.6494 - val_loss: 2.7734 - val_accuracy: 0.5663\n",
      "Epoch 72/100\n",
      "4/4 [==============================] - 0s 13ms/step - loss: 6.6156 - accuracy: 0.6646 - val_loss: 8.6722 - val_accuracy: 0.5181\n",
      "Epoch 73/100\n",
      "4/4 [==============================] - 0s 15ms/step - loss: 7.6493 - accuracy: 0.6037 - val_loss: 4.4535 - val_accuracy: 0.6386\n",
      "Epoch 74/100\n",
      "4/4 [==============================] - 0s 14ms/step - loss: 7.2967 - accuracy: 0.5427 - val_loss: 7.2246 - val_accuracy: 0.7108\n",
      "Epoch 75/100\n",
      "4/4 [==============================] - 0s 15ms/step - loss: 5.6427 - accuracy: 0.6189 - val_loss: 5.1909 - val_accuracy: 0.6988\n",
      "Epoch 76/100\n",
      "4/4 [==============================] - 0s 15ms/step - loss: 4.0696 - accuracy: 0.6829 - val_loss: 3.7260 - val_accuracy: 0.5060\n",
      "Epoch 77/100\n",
      "4/4 [==============================] - 0s 14ms/step - loss: 3.5620 - accuracy: 0.6921 - val_loss: 2.8030 - val_accuracy: 0.5422\n",
      "Epoch 78/100\n",
      "4/4 [==============================] - 0s 14ms/step - loss: 3.2366 - accuracy: 0.6341 - val_loss: 4.8034 - val_accuracy: 0.7349\n",
      "Epoch 79/100\n",
      "4/4 [==============================] - 0s 14ms/step - loss: 4.3212 - accuracy: 0.6890 - val_loss: 1.9759 - val_accuracy: 0.6747\n",
      "Epoch 80/100\n",
      "4/4 [==============================] - 0s 14ms/step - loss: 1.6910 - accuracy: 0.7073 - val_loss: 2.5463 - val_accuracy: 0.5060\n",
      "Epoch 81/100\n",
      "4/4 [==============================] - 0s 14ms/step - loss: 2.2417 - accuracy: 0.6372 - val_loss: 3.8693 - val_accuracy: 0.4458\n",
      "Epoch 82/100\n",
      "4/4 [==============================] - 0s 14ms/step - loss: 4.2333 - accuracy: 0.6341 - val_loss: 5.9694 - val_accuracy: 0.3855\n",
      "Epoch 83/100\n",
      "4/4 [==============================] - 0s 14ms/step - loss: 7.5576 - accuracy: 0.6159 - val_loss: 3.2341 - val_accuracy: 0.7108\n",
      "Epoch 84/100\n",
      "4/4 [==============================] - 0s 14ms/step - loss: 6.9615 - accuracy: 0.5884 - val_loss: 6.6625 - val_accuracy: 0.7349\n",
      "Epoch 85/100\n",
      "4/4 [==============================] - 0s 15ms/step - loss: 6.4026 - accuracy: 0.5671 - val_loss: 10.3194 - val_accuracy: 0.7229\n",
      "Epoch 86/100\n",
      "4/4 [==============================] - 0s 14ms/step - loss: 11.0479 - accuracy: 0.7134 - val_loss: 3.1063 - val_accuracy: 0.6627\n",
      "Epoch 87/100\n",
      "4/4 [==============================] - 0s 14ms/step - loss: 3.4421 - accuracy: 0.6341 - val_loss: 4.4115 - val_accuracy: 0.6627\n",
      "Epoch 88/100\n",
      "4/4 [==============================] - 0s 14ms/step - loss: 3.3111 - accuracy: 0.6006 - val_loss: 8.7148 - val_accuracy: 0.7229\n",
      "Epoch 89/100\n",
      "4/4 [==============================] - 0s 14ms/step - loss: 5.2538 - accuracy: 0.6707 - val_loss: 2.5945 - val_accuracy: 0.6386\n",
      "Epoch 90/100\n",
      "4/4 [==============================] - 0s 13ms/step - loss: 4.5779 - accuracy: 0.7165 - val_loss: 13.9027 - val_accuracy: 0.3012\n",
      "Epoch 91/100\n",
      "4/4 [==============================] - 0s 14ms/step - loss: 11.5057 - accuracy: 0.4726 - val_loss: 12.8209 - val_accuracy: 0.7229\n",
      "Epoch 92/100\n",
      "4/4 [==============================] - 0s 15ms/step - loss: 8.7688 - accuracy: 0.6372 - val_loss: 9.1552 - val_accuracy: 0.4096\n",
      "Epoch 93/100\n",
      "4/4 [==============================] - 0s 15ms/step - loss: 6.4244 - accuracy: 0.6402 - val_loss: 2.7586 - val_accuracy: 0.6024\n",
      "Epoch 94/100\n",
      "4/4 [==============================] - 0s 18ms/step - loss: 3.3908 - accuracy: 0.6128 - val_loss: 2.6132 - val_accuracy: 0.5904\n",
      "Epoch 95/100\n",
      "4/4 [==============================] - 0s 21ms/step - loss: 3.0074 - accuracy: 0.6677 - val_loss: 9.7158 - val_accuracy: 0.4096\n",
      "Epoch 96/100\n",
      "4/4 [==============================] - 0s 16ms/step - loss: 9.1895 - accuracy: 0.5640 - val_loss: 17.2802 - val_accuracy: 0.7229\n",
      "Epoch 97/100\n",
      "4/4 [==============================] - 0s 16ms/step - loss: 12.9591 - accuracy: 0.6799 - val_loss: 11.0313 - val_accuracy: 0.3373\n",
      "Epoch 98/100\n",
      "4/4 [==============================] - 0s 15ms/step - loss: 6.1293 - accuracy: 0.5884 - val_loss: 12.5378 - val_accuracy: 0.7229\n",
      "Epoch 99/100\n",
      "4/4 [==============================] - 0s 15ms/step - loss: 10.9498 - accuracy: 0.6280 - val_loss: 6.4220 - val_accuracy: 0.4940\n",
      "Epoch 100/100\n",
      "4/4 [==============================] - 0s 15ms/step - loss: 7.4745 - accuracy: 0.6768 - val_loss: 10.9865 - val_accuracy: 0.5663\n"
     ]
    }
   ],
   "source": [
    " #fitting the ANN to the training set\n",
    "    #Splitting dataset into Training and Test Data\n",
    "from sklearn.model_selection import train_test_split \n",
    "X_train,X_test,Y_train,Y_test = train_test_split(X, Y, test_size = 0.33, random_state = 42)\n",
    "model_history = classifier.fit(X_train, Y_train, batch_size=100, validation_split=0.2, epochs=100)"
   ]
  },
  {
   "cell_type": "code",
   "execution_count": 52,
   "id": "57854058",
   "metadata": {},
   "outputs": [
    {
     "data": {
      "text/plain": [
       "array([0])"
      ]
     },
     "execution_count": 52,
     "metadata": {},
     "output_type": "execute_result"
    }
   ],
   "source": [
    "#testing the model Gender Married Dependents Education Self_Employed ApplicantIncome CoapplicantIncome LoanAmount Loan_Amount_Term Credit_History\n",
    "from sklearn.tree import DecisionTreeClassifier\n",
    "dt=DecisionTreeClassifier()\n",
    "dt.fit(X_train,Y_train)\n",
    "dt.predict([[1,1, 0, 1, 1, 4276, 1542, 145, 240, 0,1]])"
   ]
  },
  {
   "cell_type": "code",
   "execution_count": 53,
   "id": "29739dc6",
   "metadata": {},
   "outputs": [
    {
     "data": {
      "text/plain": [
       "array([0])"
      ]
     },
     "execution_count": 53,
     "metadata": {},
     "output_type": "execute_result"
    }
   ],
   "source": [
    "#testing the model Gender Married Dependents Education Self_Employed ApplicantIncome CoapplicantIncome LoanAmount Loan_Amount_Term Credit_History\n",
    "rf=RandomForestClassifier()\n",
    "rf.fit(X_train,Y_train)\n",
    "rf.predict([[1,1, 0, 1, 1, 4276, 1542,145, 240, 0,1]])"
   ]
  },
  {
   "cell_type": "code",
   "execution_count": 54,
   "id": "310ca73f",
   "metadata": {},
   "outputs": [
    {
     "data": {
      "text/plain": [
       "array([1])"
      ]
     },
     "execution_count": 54,
     "metadata": {},
     "output_type": "execute_result"
    }
   ],
   "source": [
    "#testing the model Gender Married Dependents Education Self_Employed ApplicantIncome CoapplicantIncome LoanAmount Loan_Amount_Term Credit_History\n",
    "Knn=KNeighborsClassifier()\n",
    "Knn.fit(X_train,Y_train)\n",
    "Knn.predict([[1,1, 0, 1, 1, 4276, 1542,145, 240, 0,1]])"
   ]
  },
  {
   "cell_type": "code",
   "execution_count": 55,
   "id": "f1cf7344",
   "metadata": {},
   "outputs": [
    {
     "data": {
      "text/plain": [
       "array([0])"
      ]
     },
     "execution_count": 55,
     "metadata": {},
     "output_type": "execute_result"
    }
   ],
   "source": [
    "#testing the model Gender Married Dependents Education Self_Employed ApplicantIncome CoapplicantIncome LoanAmount Loan_Amount_Term Credit_History\n",
    "xg=GradientBoostingClassifier()\n",
    "xg.fit(X_train,Y_train)\n",
    "xg.predict([[1,1, 0, 1, 1, 4276, 1542,145, 240, 0,1]])"
   ]
  },
  {
   "cell_type": "code",
   "execution_count": 56,
   "id": "7b6dcb92",
   "metadata": {},
   "outputs": [],
   "source": [
    "classifier.save(\"loan.h5\")"
   ]
  },
  {
   "cell_type": "code",
   "execution_count": 57,
   "id": "99f733f9",
   "metadata": {},
   "outputs": [
    {
     "name": "stdout",
     "output_type": "stream",
     "text": [
      "7/7 [==============================] - 0s 3ms/step\n"
     ]
    }
   ],
   "source": [
    "# predicting the test set results\n",
    "y_pred = classifier.predict(X_test)"
   ]
  },
  {
   "cell_type": "code",
   "execution_count": 58,
   "id": "76bfe124",
   "metadata": {},
   "outputs": [
    {
     "data": {
      "text/plain": [
       "array([[1.0000000e+00],\n",
       "       [1.0000000e+00],\n",
       "       [9.9999994e-01],\n",
       "       [9.9999899e-01],\n",
       "       [9.9999285e-01],\n",
       "       [9.9204918e-03],\n",
       "       [1.0000000e+00],\n",
       "       [9.9999940e-01],\n",
       "       [1.2955884e-06],\n",
       "       [1.0000000e+00],\n",
       "       [1.0000000e+00],\n",
       "       [2.0892385e-03],\n",
       "       [9.9943227e-01],\n",
       "       [8.4812081e-01],\n",
       "       [9.8140043e-01],\n",
       "       [9.1663736e-01],\n",
       "       [9.9978220e-01],\n",
       "       [5.1679081e-06],\n",
       "       [4.3675172e-06],\n",
       "       [1.0000000e+00],\n",
       "       [2.5190953e-02],\n",
       "       [2.1718481e-07],\n",
       "       [1.0000000e+00],\n",
       "       [1.0000000e+00],\n",
       "       [1.0000000e+00],\n",
       "       [2.0078121e-05],\n",
       "       [1.5808678e-03],\n",
       "       [1.0000000e+00],\n",
       "       [1.0000000e+00],\n",
       "       [1.0000000e+00],\n",
       "       [1.0000000e+00],\n",
       "       [9.9993289e-01],\n",
       "       [2.9224819e-05],\n",
       "       [1.4205301e-02],\n",
       "       [1.0000000e+00],\n",
       "       [1.0000000e+00],\n",
       "       [9.3054754e-05],\n",
       "       [1.0000000e+00],\n",
       "       [9.7714674e-01],\n",
       "       [7.4048185e-01],\n",
       "       [1.0000000e+00],\n",
       "       [7.7042121e-01],\n",
       "       [1.0000000e+00],\n",
       "       [1.6742561e-02],\n",
       "       [9.9909437e-01],\n",
       "       [1.0000000e+00],\n",
       "       [1.3181313e-05],\n",
       "       [1.7458462e-04],\n",
       "       [8.7277973e-01],\n",
       "       [1.0000000e+00],\n",
       "       [5.4588963e-06],\n",
       "       [1.0000000e+00],\n",
       "       [8.7954992e-01],\n",
       "       [1.0000000e+00],\n",
       "       [4.2280373e-01],\n",
       "       [9.9996233e-01],\n",
       "       [1.0063290e-12],\n",
       "       [1.0000000e+00],\n",
       "       [6.9068169e-04],\n",
       "       [1.0000000e+00],\n",
       "       [1.0000000e+00],\n",
       "       [2.4911016e-04],\n",
       "       [1.0000000e+00],\n",
       "       [1.0000000e+00],\n",
       "       [7.6049322e-01],\n",
       "       [1.0000000e+00],\n",
       "       [7.7452132e-06],\n",
       "       [1.0000000e+00],\n",
       "       [1.0000000e+00],\n",
       "       [1.0000000e+00],\n",
       "       [9.9999434e-01],\n",
       "       [9.9494767e-01],\n",
       "       [1.0000000e+00],\n",
       "       [7.5328475e-01],\n",
       "       [2.1408521e-11],\n",
       "       [9.9999517e-01],\n",
       "       [9.3403531e-12],\n",
       "       [1.0000000e+00],\n",
       "       [9.9999988e-01],\n",
       "       [1.0000000e+00],\n",
       "       [1.5282279e-05],\n",
       "       [1.0000000e+00],\n",
       "       [1.0000000e+00],\n",
       "       [9.2460507e-01],\n",
       "       [1.0000000e+00],\n",
       "       [9.9999636e-01],\n",
       "       [1.9246576e-04],\n",
       "       [9.9999952e-01],\n",
       "       [1.0976734e-03],\n",
       "       [1.0000000e+00],\n",
       "       [9.9999982e-01],\n",
       "       [1.0000000e+00],\n",
       "       [9.9999982e-01],\n",
       "       [1.0000000e+00],\n",
       "       [7.9688587e-05],\n",
       "       [2.3559946e-01],\n",
       "       [9.9998736e-01],\n",
       "       [2.0796057e-05],\n",
       "       [1.0000000e+00],\n",
       "       [5.9052273e-03],\n",
       "       [1.0000000e+00],\n",
       "       [9.8854036e-04],\n",
       "       [1.0000000e+00],\n",
       "       [1.0000000e+00],\n",
       "       [2.9598682e-10],\n",
       "       [3.2588383e-04],\n",
       "       [1.5108495e-03],\n",
       "       [1.0000000e+00],\n",
       "       [7.8963023e-01],\n",
       "       [9.9999881e-01],\n",
       "       [1.0000000e+00],\n",
       "       [2.1245078e-05],\n",
       "       [7.5530506e-06],\n",
       "       [1.0000000e+00],\n",
       "       [9.9984920e-01],\n",
       "       [9.6055549e-01],\n",
       "       [1.9238208e-04],\n",
       "       [9.9959922e-01],\n",
       "       [1.0000000e+00],\n",
       "       [9.9982214e-01],\n",
       "       [1.5753793e-04],\n",
       "       [2.9724570e-02],\n",
       "       [1.0000000e+00],\n",
       "       [9.9999708e-01],\n",
       "       [9.8991179e-01],\n",
       "       [1.0000000e+00],\n",
       "       [2.0797910e-02],\n",
       "       [1.0000000e+00],\n",
       "       [1.0000000e+00],\n",
       "       [2.0742498e-05],\n",
       "       [7.5486723e-06],\n",
       "       [1.0000000e+00],\n",
       "       [1.0000000e+00],\n",
       "       [1.0000000e+00],\n",
       "       [1.0000000e+00],\n",
       "       [9.9999982e-01],\n",
       "       [7.2748307e-04],\n",
       "       [1.0000000e+00],\n",
       "       [1.0000000e+00],\n",
       "       [3.7954231e-18],\n",
       "       [2.8347984e-04],\n",
       "       [2.4469516e-01],\n",
       "       [1.0000000e+00],\n",
       "       [0.0000000e+00],\n",
       "       [1.0000000e+00],\n",
       "       [1.0000000e+00],\n",
       "       [2.0882854e-04],\n",
       "       [1.0000000e+00],\n",
       "       [1.0000000e+00],\n",
       "       [3.7213732e-02],\n",
       "       [9.9999940e-01],\n",
       "       [9.9999714e-01],\n",
       "       [1.0000000e+00],\n",
       "       [1.0000000e+00],\n",
       "       [1.7915205e-05],\n",
       "       [7.8384837e-06],\n",
       "       [1.0000000e+00],\n",
       "       [1.0000000e+00],\n",
       "       [9.9973214e-01],\n",
       "       [1.0000000e+00],\n",
       "       [1.0000000e+00],\n",
       "       [7.1165765e-08],\n",
       "       [9.9699991e-04],\n",
       "       [1.0000000e+00],\n",
       "       [9.4741780e-01],\n",
       "       [6.1057206e-02],\n",
       "       [1.0000000e+00],\n",
       "       [9.9999666e-01],\n",
       "       [1.0000000e+00],\n",
       "       [9.9999666e-01],\n",
       "       [5.3050476e-01],\n",
       "       [8.2955562e-09],\n",
       "       [1.0000000e+00],\n",
       "       [1.3875897e-02],\n",
       "       [1.0000000e+00],\n",
       "       [1.2059612e-03],\n",
       "       [2.0682221e-07],\n",
       "       [9.1879267e-01],\n",
       "       [1.0000000e+00],\n",
       "       [1.0000000e+00],\n",
       "       [1.6827431e-03],\n",
       "       [1.0000000e+00],\n",
       "       [1.0000000e+00],\n",
       "       [3.2016875e-03],\n",
       "       [1.0000000e+00],\n",
       "       [9.8011124e-01],\n",
       "       [9.5909256e-01],\n",
       "       [9.9618810e-01],\n",
       "       [5.5001053e-04],\n",
       "       [1.0000000e+00],\n",
       "       [8.6703766e-03],\n",
       "       [1.3832873e-05],\n",
       "       [1.0000000e+00],\n",
       "       [9.9984443e-01],\n",
       "       [1.0000000e+00],\n",
       "       [1.0000000e+00],\n",
       "       [2.1459330e-04],\n",
       "       [1.5020462e-02],\n",
       "       [2.7347123e-06],\n",
       "       [4.0758825e-03],\n",
       "       [1.0000000e+00],\n",
       "       [1.0000000e+00],\n",
       "       [1.3071625e-01]], dtype=float32)"
      ]
     },
     "execution_count": 58,
     "metadata": {},
     "output_type": "execute_result"
    }
   ],
   "source": [
    "y_pred"
   ]
  },
  {
   "cell_type": "code",
   "execution_count": 59,
   "id": "25109ab6",
   "metadata": {},
   "outputs": [
    {
     "data": {
      "text/plain": [
       "array([[ True],\n",
       "       [ True],\n",
       "       [ True],\n",
       "       [ True],\n",
       "       [ True],\n",
       "       [False],\n",
       "       [ True],\n",
       "       [ True],\n",
       "       [False],\n",
       "       [ True],\n",
       "       [ True],\n",
       "       [False],\n",
       "       [ True],\n",
       "       [ True],\n",
       "       [ True],\n",
       "       [ True],\n",
       "       [ True],\n",
       "       [False],\n",
       "       [False],\n",
       "       [ True],\n",
       "       [False],\n",
       "       [False],\n",
       "       [ True],\n",
       "       [ True],\n",
       "       [ True],\n",
       "       [False],\n",
       "       [False],\n",
       "       [ True],\n",
       "       [ True],\n",
       "       [ True],\n",
       "       [ True],\n",
       "       [ True],\n",
       "       [False],\n",
       "       [False],\n",
       "       [ True],\n",
       "       [ True],\n",
       "       [False],\n",
       "       [ True],\n",
       "       [ True],\n",
       "       [ True],\n",
       "       [ True],\n",
       "       [ True],\n",
       "       [ True],\n",
       "       [False],\n",
       "       [ True],\n",
       "       [ True],\n",
       "       [False],\n",
       "       [False],\n",
       "       [ True],\n",
       "       [ True],\n",
       "       [False],\n",
       "       [ True],\n",
       "       [ True],\n",
       "       [ True],\n",
       "       [False],\n",
       "       [ True],\n",
       "       [False],\n",
       "       [ True],\n",
       "       [False],\n",
       "       [ True],\n",
       "       [ True],\n",
       "       [False],\n",
       "       [ True],\n",
       "       [ True],\n",
       "       [ True],\n",
       "       [ True],\n",
       "       [False],\n",
       "       [ True],\n",
       "       [ True],\n",
       "       [ True],\n",
       "       [ True],\n",
       "       [ True],\n",
       "       [ True],\n",
       "       [ True],\n",
       "       [False],\n",
       "       [ True],\n",
       "       [False],\n",
       "       [ True],\n",
       "       [ True],\n",
       "       [ True],\n",
       "       [False],\n",
       "       [ True],\n",
       "       [ True],\n",
       "       [ True],\n",
       "       [ True],\n",
       "       [ True],\n",
       "       [False],\n",
       "       [ True],\n",
       "       [False],\n",
       "       [ True],\n",
       "       [ True],\n",
       "       [ True],\n",
       "       [ True],\n",
       "       [ True],\n",
       "       [False],\n",
       "       [False],\n",
       "       [ True],\n",
       "       [False],\n",
       "       [ True],\n",
       "       [False],\n",
       "       [ True],\n",
       "       [False],\n",
       "       [ True],\n",
       "       [ True],\n",
       "       [False],\n",
       "       [False],\n",
       "       [False],\n",
       "       [ True],\n",
       "       [ True],\n",
       "       [ True],\n",
       "       [ True],\n",
       "       [False],\n",
       "       [False],\n",
       "       [ True],\n",
       "       [ True],\n",
       "       [ True],\n",
       "       [False],\n",
       "       [ True],\n",
       "       [ True],\n",
       "       [ True],\n",
       "       [False],\n",
       "       [False],\n",
       "       [ True],\n",
       "       [ True],\n",
       "       [ True],\n",
       "       [ True],\n",
       "       [False],\n",
       "       [ True],\n",
       "       [ True],\n",
       "       [False],\n",
       "       [False],\n",
       "       [ True],\n",
       "       [ True],\n",
       "       [ True],\n",
       "       [ True],\n",
       "       [ True],\n",
       "       [False],\n",
       "       [ True],\n",
       "       [ True],\n",
       "       [False],\n",
       "       [False],\n",
       "       [False],\n",
       "       [ True],\n",
       "       [False],\n",
       "       [ True],\n",
       "       [ True],\n",
       "       [False],\n",
       "       [ True],\n",
       "       [ True],\n",
       "       [False],\n",
       "       [ True],\n",
       "       [ True],\n",
       "       [ True],\n",
       "       [ True],\n",
       "       [False],\n",
       "       [False],\n",
       "       [ True],\n",
       "       [ True],\n",
       "       [ True],\n",
       "       [ True],\n",
       "       [ True],\n",
       "       [False],\n",
       "       [False],\n",
       "       [ True],\n",
       "       [ True],\n",
       "       [False],\n",
       "       [ True],\n",
       "       [ True],\n",
       "       [ True],\n",
       "       [ True],\n",
       "       [ True],\n",
       "       [False],\n",
       "       [ True],\n",
       "       [False],\n",
       "       [ True],\n",
       "       [False],\n",
       "       [False],\n",
       "       [ True],\n",
       "       [ True],\n",
       "       [ True],\n",
       "       [False],\n",
       "       [ True],\n",
       "       [ True],\n",
       "       [False],\n",
       "       [ True],\n",
       "       [ True],\n",
       "       [ True],\n",
       "       [ True],\n",
       "       [False],\n",
       "       [ True],\n",
       "       [False],\n",
       "       [False],\n",
       "       [ True],\n",
       "       [ True],\n",
       "       [ True],\n",
       "       [ True],\n",
       "       [False],\n",
       "       [False],\n",
       "       [False],\n",
       "       [False],\n",
       "       [ True],\n",
       "       [ True],\n",
       "       [False]])"
      ]
     },
     "execution_count": 59,
     "metadata": {},
     "output_type": "execute_result"
    }
   ],
   "source": [
    "y_pred = (y_pred > 0.5)\n",
    "y_pred"
   ]
  },
  {
   "cell_type": "code",
   "execution_count": 60,
   "id": "27de185c",
   "metadata": {},
   "outputs": [],
   "source": [
    "def predict_exit(sample_value):\n",
    "    # convert list to numpy array\n",
    "    sample_value = np.array(sample_value)\n",
    "    # Reshape because sample_value contains 1 record\n",
    "    sample_value = sample_value.reshape(1, -1)\n",
    "    # Feature Scaling\n",
    "    sample_value = sc.transform(sample_value)\n",
    "    return classifier.predict(sample_value)"
   ]
  },
  {
   "cell_type": "code",
   "execution_count": 61,
   "id": "cb01269e",
   "metadata": {},
   "outputs": [
    {
     "name": "stdout",
     "output_type": "stream",
     "text": [
      "1/1 [==============================] - 0s 66ms/step\n",
      "Prediction: low chance of Loan Approval.\n"
     ]
    }
   ],
   "source": [
    "# predictions\n",
    "# value order 'CreditScore','Age','Tenure','Balance','NumOfproducts','HasCrCard','IsActiveMember','EstimatedSalary','France','Germany','Spain','Female','Male'.\n",
    "import tensorflow\n",
    "sample_value = [[1,1, 0, 1, 1, 4276, 1542,145, 240, 0,1]]\n",
    "if predict_exit(sample_value)>1.0:\n",
    "    print('Prediction: High chance of Loan Approval!')\n",
    "else:\n",
    "    print('Prediction: low chance of Loan Approval.')"
   ]
  },
  {
   "cell_type": "code",
   "execution_count": 62,
   "id": "98130d0e",
   "metadata": {},
   "outputs": [
    {
     "name": "stdout",
     "output_type": "stream",
     "text": [
      "1/1 [==============================] - 0s 27ms/step\n",
      "Prediction: low chance of Loan Approval.\n"
     ]
    }
   ],
   "source": [
    "# predictions\n",
    "# value order 'CreditScore','Age','Tenure','Balance','NumOfproducts','HasCrCard','IsActiveMember','EstimatedSalary','France','Germany','Spain','Female','Male'.\n",
    "import tensorflow\n",
    "sample_value = [[1,0, 1, 1, 1, 45, 14,45, 240, 1,1]]\n",
    "if predict_exit(sample_value)>0.5:\n",
    "    print('Prediction: High chance of Loan Approval!')\n",
    "else:\n",
    "    print('Prediction: low chance of Loan Approval.')"
   ]
  },
  {
   "cell_type": "code",
   "execution_count": 63,
   "id": "ca5af09a",
   "metadata": {},
   "outputs": [],
   "source": [
    "# Performance Testing & Hyperparameter Tuning"
   ]
  },
  {
   "cell_type": "code",
   "execution_count": 64,
   "id": "7702a5be",
   "metadata": {},
   "outputs": [],
   "source": [
    "# compare the model\n",
    "def compareMdodel(X_train,X_test,y_train,y_test):\n",
    "    decisionTree(X_train,X_test,y_train,y_test)\n",
    "    print('-'*100)\n",
    "    randomForest(X_train,X_test,y_train,y_test)\n",
    "    print('-'*100)\n",
    "    Xgboost(X_train,X_test,y_train,y_test)\n",
    "    print('-'*100)\n",
    "    KNN(X_train,X_test,y_train,y_test)\n",
    "    print('-'*100)"
   ]
  },
  {
   "cell_type": "code",
   "execution_count": 65,
   "id": "744e3f0f",
   "metadata": {},
   "outputs": [
    {
     "name": "stdout",
     "output_type": "stream",
     "text": [
      "***DecisionTreeClassifier***\n",
      "Confusion matrix\n",
      "[[ 33  39]\n",
      " [ 30 101]]\n",
      "Classfication report\n",
      "              precision    recall  f1-score   support\n",
      "\n",
      "           0       0.52      0.46      0.49        72\n",
      "           1       0.72      0.77      0.75       131\n",
      "\n",
      "    accuracy                           0.66       203\n",
      "   macro avg       0.62      0.61      0.62       203\n",
      "weighted avg       0.65      0.66      0.65       203\n",
      "\n",
      "----------------------------------------------------------------------------------------------------\n",
      "***RandomForestClassifier***\n",
      "Confusion matrix\n",
      "[[ 38  34]\n",
      " [  8 123]]\n",
      "Classfication report\n",
      "              precision    recall  f1-score   support\n",
      "\n",
      "           0       0.83      0.53      0.64        72\n",
      "           1       0.78      0.94      0.85       131\n",
      "\n",
      "    accuracy                           0.79       203\n",
      "   macro avg       0.80      0.73      0.75       203\n",
      "weighted avg       0.80      0.79      0.78       203\n",
      "\n",
      "----------------------------------------------------------------------------------------------------\n",
      "***GradientBoostingClassifier***\n",
      "Confusion matrix\n",
      "[[ 32  40]\n",
      " [  9 122]]\n",
      "Classfication report\n",
      "              precision    recall  f1-score   support\n",
      "\n",
      "           0       0.78      0.44      0.57        72\n",
      "           1       0.75      0.93      0.83       131\n",
      "\n",
      "    accuracy                           0.76       203\n",
      "   macro avg       0.77      0.69      0.70       203\n",
      "weighted avg       0.76      0.76      0.74       203\n",
      "\n",
      "----------------------------------------------------------------------------------------------------\n",
      "***KNeighborsClassifier***\n",
      "Confusion matrix\n",
      "[[  8  64]\n",
      " [ 24 107]]\n",
      "Classfication report\n",
      "              precision    recall  f1-score   support\n",
      "\n",
      "           0       0.25      0.11      0.15        72\n",
      "           1       0.63      0.82      0.71       131\n",
      "\n",
      "    accuracy                           0.57       203\n",
      "   macro avg       0.44      0.46      0.43       203\n",
      "weighted avg       0.49      0.57      0.51       203\n",
      "\n",
      "----------------------------------------------------------------------------------------------------\n"
     ]
    }
   ],
   "source": [
    "compareMdodel(X_train,X_test,Y_train,Y_test)"
   ]
  },
  {
   "cell_type": "code",
   "execution_count": 66,
   "id": "4dd806c1",
   "metadata": {},
   "outputs": [
    {
     "name": "stdout",
     "output_type": "stream",
     "text": [
      "7/7 [==============================] - 0s 3ms/step\n",
      "0.5270935960591133\n",
      "ANN Model\n",
      "Confusion_Matrix\n",
      "[[22 50]\n",
      " [46 85]]\n",
      "Classification Report\n",
      "              precision    recall  f1-score   support\n",
      "\n",
      "           0       0.32      0.31      0.31        72\n",
      "           1       0.63      0.65      0.64       131\n",
      "\n",
      "    accuracy                           0.53       203\n",
      "   macro avg       0.48      0.48      0.48       203\n",
      "weighted avg       0.52      0.53      0.52       203\n",
      "\n"
     ]
    }
   ],
   "source": [
    "ypred = classifier.predict(X_test)\n",
    "print(accuracy_score(y_pred,Y_test))\n",
    "print(\"ANN Model\")\n",
    "print(\"Confusion_Matrix\")\n",
    "print(confusion_matrix(Y_test,y_pred))\n",
    "print(\"Classification Report\")\n",
    "print(classification_report(Y_test,y_pred))"
   ]
  },
  {
   "cell_type": "code",
   "execution_count": 67,
   "id": "c2923810",
   "metadata": {},
   "outputs": [],
   "source": [
    "# comparing model accuracy before & after applying hyperparameter tuning"
   ]
  },
  {
   "cell_type": "code",
   "execution_count": 68,
   "id": "b5168f09",
   "metadata": {},
   "outputs": [],
   "source": [
    "from sklearn.model_selection import cross_val_score"
   ]
  },
  {
   "cell_type": "code",
   "execution_count": 69,
   "id": "11151500",
   "metadata": {},
   "outputs": [],
   "source": [
    "# Radom forest model is selected\n",
    "rf = RandomForestClassifier()\n",
    "rf.fit(X_train,Y_train)\n",
    "yPred = rf.predict(X_test)"
   ]
  },
  {
   "cell_type": "code",
   "execution_count": 70,
   "id": "1d5f26ce",
   "metadata": {},
   "outputs": [
    {
     "data": {
      "text/plain": [
       "0.5302937145820216"
      ]
     },
     "execution_count": 70,
     "metadata": {},
     "output_type": "execute_result"
    }
   ],
   "source": [
    "f1_score(y_pred,Y_test,average='weighted')"
   ]
  },
  {
   "cell_type": "code",
   "execution_count": 71,
   "id": "242df290",
   "metadata": {},
   "outputs": [],
   "source": [
    "cv = cross_val_score(rf,X,Y,cv=5)"
   ]
  },
  {
   "cell_type": "code",
   "execution_count": 72,
   "id": "b493c761",
   "metadata": {},
   "outputs": [
    {
     "data": {
      "text/plain": [
       "0.7785152605624417"
      ]
     },
     "execution_count": 72,
     "metadata": {},
     "output_type": "execute_result"
    }
   ],
   "source": [
    "np.mean(cv)"
   ]
  },
  {
   "cell_type": "code",
   "execution_count": 73,
   "id": "f1b4b86f",
   "metadata": {},
   "outputs": [],
   "source": [
    "#model Deployment"
   ]
  },
  {
   "cell_type": "code",
   "execution_count": 74,
   "id": "bb492e7d",
   "metadata": {},
   "outputs": [],
   "source": [
    "#save the best model"
   ]
  },
  {
   "cell_type": "code",
   "execution_count": 75,
   "id": "53558999",
   "metadata": {},
   "outputs": [],
   "source": [
    "# saving the model by using pickle function\n",
    "#model=RandomForestClassifier()\n",
    "#model.fit(X_train, Y_train)\n",
    "#y1_pred=model.predict(X_test)\n",
    "model=GradientBoostingClassifier()\n",
    "model.fit(X_train, Y_train)\n",
    "pickle.dump(model,open('gb.pkl','wb'))"
   ]
  },
  {
   "cell_type": "code",
   "execution_count": 76,
   "id": "4d7dad89",
   "metadata": {},
   "outputs": [
    {
     "name": "stdout",
     "output_type": "stream",
     "text": [
      "GradientBoostingClassifier()\n"
     ]
    }
   ],
   "source": [
    "#model = pickle.load(open('rdf.pkl','rb'))\n",
    "#print(model)\n",
    "pickle.dump(sc,open('scale1.pkl','wb'))\n",
    "print(model)"
   ]
  }
 ],
 "metadata": {
  "kernelspec": {
   "display_name": "Python 3 (ipykernel)",
   "language": "python",
   "name": "python3"
  },
  "language_info": {
   "codemirror_mode": {
    "name": "ipython",
    "version": 3
   },
   "file_extension": ".py",
   "mimetype": "text/x-python",
   "name": "python",
   "nbconvert_exporter": "python",
   "pygments_lexer": "ipython3",
   "version": "3.10.9"
  },
  "vscode": {
   "interpreter": {
    "hash": "5c1ac5579357d1713141d1b61deb6ccf2f2f624c6df25d087207891009f7b518"
   }
  }
 },
 "nbformat": 4,
 "nbformat_minor": 5
}
